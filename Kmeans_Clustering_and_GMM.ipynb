{
  "nbformat": 4,
  "nbformat_minor": 0,
  "metadata": {
    "colab": {
      "provenance": [],
      "authorship_tag": "ABX9TyPytqLoeqghTuhBtrajkHs5",
      "include_colab_link": true
    },
    "kernelspec": {
      "name": "python3",
      "display_name": "Python 3"
    },
    "language_info": {
      "name": "python"
    }
  },
  "cells": [
    {
      "cell_type": "markdown",
      "metadata": {
        "id": "view-in-github",
        "colab_type": "text"
      },
      "source": [
        "<a href=\"https://colab.research.google.com/github/paveethranswam/Machine-Learning-Algorithms-Implementation/blob/main/Kmeans_Clustering_and_GMM.ipynb\" target=\"_parent\"><img src=\"https://colab.research.google.com/assets/colab-badge.svg\" alt=\"Open In Colab\"/></a>"
      ]
    },
    {
      "cell_type": "code",
      "execution_count": null,
      "metadata": {
        "id": "uS6WAePvVXWa"
      },
      "outputs": [],
      "source": [
        "import numpy as np\n",
        "import matplotlib.pyplot as plt\n",
        "import scipy as sc\n",
        "from sklearn import datasets"
      ]
    },
    {
      "cell_type": "markdown",
      "source": [
        "## Pseudocode\n",
        "\n",
        "### 1. Choose the number of clusters(K)\n",
        "### 2. Choose random centroids for clusters c1, c2, c3,...,ck\n",
        "### 3. Now repeat for fixed iterations or until convergence:\n",
        "### Assign points to nearest centroid\n",
        "### Recalculate centroid for every cluster - WHICH IS THE MEAN OF ALL POINTS ASSIGNED TO THAT CLUSTER\n"
      ],
      "metadata": {
        "id": "L8GcDTphWTQ6"
      }
    },
    {
      "cell_type": "code",
      "source": [
        "iris = datasets.load_iris()\n",
        "data = iris['data']\n",
        "data[:5]\n"
      ],
      "metadata": {
        "colab": {
          "base_uri": "https://localhost:8080/"
        },
        "id": "GSzDpfPQVhsH",
        "outputId": "463f5287-1759-4cdb-fd26-6efbba8b4846"
      },
      "execution_count": null,
      "outputs": [
        {
          "output_type": "execute_result",
          "data": {
            "text/plain": [
              "array([[5.1, 3.5, 1.4, 0.2],\n",
              "       [4.9, 3. , 1.4, 0.2],\n",
              "       [4.7, 3.2, 1.3, 0.2],\n",
              "       [4.6, 3.1, 1.5, 0.2],\n",
              "       [5. , 3.6, 1.4, 0.2]])"
            ]
          },
          "metadata": {},
          "execution_count": 9
        }
      ]
    },
    {
      "cell_type": "code",
      "source": [
        "k = 4\n",
        "mu_1 = data[0]\n",
        "mu_2 = data[1]\n",
        "mu_3 = data[2]\n",
        "mu_4 = data[3]\n",
        "\n",
        "# fixed iterations\n",
        "n_iter = 0\n",
        "stop_condition = False\n",
        "c=0\n",
        "\n",
        "# for iter in range(n_iter) or stop_condition:\n",
        "while(not stop_condition):\n",
        "  n_iter+=1\n",
        "  cluster_1_points = []\n",
        "  cluster_2_points = []\n",
        "  cluster_3_points = []\n",
        "  cluster_4_points = []\n",
        "\n",
        "  for x_i in data:\n",
        "    dist_to_mu_1 = np.sqrt( (mu_1[0] - x_i[0])**2 + (mu_1[1] - x_i[1])**2 + (mu_1[2] - x_i[2])**2 + (mu_1[3] - x_i[3])**2 )\n",
        "    dist_to_mu_2 = np.sqrt( (mu_2[0] - x_i[0])**2 + (mu_2[1] - x_i[1])**2 + (mu_2[2] - x_i[2])**2 + (mu_2[3] - x_i[3])**2 )\n",
        "    dist_to_mu_3 = np.sqrt( (mu_3[0] - x_i[0])**2 + (mu_3[1] - x_i[1])**2 + (mu_3[2] - x_i[2])**2 + (mu_3[3] - x_i[3])**2 )\n",
        "    dist_to_mu_4 = np.sqrt( (mu_4[0] - x_i[0])**2 + (mu_4[1] - x_i[1])**2 + (mu_4[2] - x_i[2])**2 + (mu_4[3] - x_i[3])**2 )\n",
        "\n",
        "    dist_to_all_mu = [dist_to_mu_1, dist_to_mu_2, dist_to_mu_3, dist_to_mu_4]\n",
        "    min_index = dist_to_all_mu.index(min(dist_to_all_mu))\n",
        "    \n",
        "    if(min_index == 0):\n",
        "      cluster_1_points.append([x_i[0], x_i[1], x_i[2], x_i[3]])\n",
        "    if(min_index == 1):\n",
        "      cluster_2_points.append(x_i)\n",
        "    if(min_index == 2):\n",
        "      cluster_3_points.append(x_i)\n",
        "    if(min_index == 3):\n",
        "      cluster_4_points.append(x_i)\n",
        "\n",
        "  cluster_1_points = np.array(cluster_1_points)\n",
        "  cluster_2_points = np.array(cluster_2_points)\n",
        "  cluster_3_points = np.array(cluster_3_points)\n",
        "  cluster_4_points = np.array(cluster_4_points)\n",
        "  \n",
        "  old_mu_1 = mu_1\n",
        "  old_mu_2 = mu_2\n",
        "  old_mu_3 = mu_3\n",
        "  old_mu_4 = mu_4\n",
        "\n",
        "  # Recalculating centroid values\n",
        "  mu_1 = np.array([np.sum(cluster_1_points[:,0])/len(cluster_1_points), np.sum(cluster_1_points[:,1])/len(cluster_1_points), np.sum(cluster_1_points[:,2])/len(cluster_1_points), np.sum(cluster_1_points[:,3])/len(cluster_1_points) ])\n",
        "  mu_2 = np.array([np.sum(cluster_2_points[:,0])/len(cluster_2_points), np.sum(cluster_2_points[:,1])/len(cluster_2_points), np.sum(cluster_2_points[:,2])/len(cluster_2_points), np.sum(cluster_1_points[:,3])/len(cluster_1_points) ])\n",
        "  mu_3 = np.array([np.sum(cluster_3_points[:,0])/len(cluster_3_points), np.sum(cluster_3_points[:,1])/len(cluster_3_points), np.sum(cluster_3_points[:,2])/len(cluster_3_points), np.sum(cluster_1_points[:,3])/len(cluster_1_points) ])\n",
        "  mu_4 = np.array([np.sum(cluster_4_points[:,0])/len(cluster_4_points), np.sum(cluster_4_points[:,1])/len(cluster_4_points), np.sum(cluster_4_points[:,2])/len(cluster_4_points), np.sum(cluster_1_points[:,3])/len(cluster_1_points) ])\n",
        "\n",
        "  # Check for convergence\n",
        "  if(np.mean(np.abs(mu_1 - old_mu_1)) < 0.00001 and np.mean(np.abs(mu_2 - old_mu_2)) < 0.00001 and np.mean(np.abs(mu_3 - old_mu_3)) < 0.00001 and np.mean(np.abs(mu_4 - old_mu_4)) < 0.00001 ):\n",
        "    print('convergence satisfied', n_iter)\n",
        "    # print(mu_1, mu_2, mu_3, mu_4)\n",
        "    # print(old_mu_1, old_mu_2, old_mu_3, old_mu_4)\n",
        "    stop_condition = True\n",
        "\n",
        "\n",
        "\n"
      ],
      "metadata": {
        "colab": {
          "base_uri": "https://localhost:8080/"
        },
        "id": "EbExKFhhVi1R",
        "outputId": "3264e65a-fc9b-46de-9fe9-e1740f650fc4"
      },
      "execution_count": null,
      "outputs": [
        {
          "output_type": "stream",
          "name": "stdout",
          "text": [
            "convergence satisfied 17\n"
          ]
        }
      ]
    },
    {
      "cell_type": "code",
      "source": [
        "print('In first cluster: ', len(cluster_1_points), 'In second cluster: ', len(cluster_2_points), 'In third cluster: ', len(cluster_3_points), 'In fourth cluster: ', len(cluster_4_points))\n"
      ],
      "metadata": {
        "colab": {
          "base_uri": "https://localhost:8080/"
        },
        "id": "PwSVCi8nVi3m",
        "outputId": "351aaccc-bd19-40b0-e412-b5b2692a500a"
      },
      "execution_count": null,
      "outputs": [
        {
          "output_type": "stream",
          "name": "stdout",
          "text": [
            "In first cluster:  22 In second cluster:  50 In third cluster:  50 In fourth cluster:  28\n"
          ]
        }
      ]
    },
    {
      "cell_type": "code",
      "source": [],
      "metadata": {
        "id": "UNojjpSvVi54"
      },
      "execution_count": null,
      "outputs": []
    },
    {
      "cell_type": "code",
      "source": [
        "plt.scatter(cluster_1_points[:, 0], cluster_1_points[:, 1], color = 'red', label = 'cluster1')\n",
        "plt.scatter(cluster_2_points[:, 0], cluster_2_points[:, 1], color = 'blue', label = 'cluster2')\n",
        "plt.scatter(cluster_3_points[:, 0], cluster_3_points[:, 1], color = 'green', label = 'cluster3')\n",
        "plt.scatter(cluster_4_points[:, 0], cluster_4_points[:, 1], color = 'yellow', label = 'cluster4')\n",
        "plt.legend()\n",
        "plt.show()"
      ],
      "metadata": {
        "colab": {
          "base_uri": "https://localhost:8080/",
          "height": 268
        },
        "id": "DfXwZTtgVi85",
        "outputId": "4335e1c7-23f2-49d5-80d5-0bfa83134d2a"
      },
      "execution_count": null,
      "outputs": [
        {
          "output_type": "display_data",
          "data": {
            "text/plain": [
              "<Figure size 432x288 with 1 Axes>"
            ],
            "image/png": "[encoded data removed]"
          },
          "metadata": {
            "needs_background": "light"
          }
        }
      ]
    },
    {
      "cell_type": "code",
      "source": [
        "plt.scatter(cluster_1_points[:, 2], cluster_1_points[:, 3], color = 'red', label = 'cluster1')\n",
        "plt.scatter(cluster_2_points[:, 2], cluster_2_points[:, 3], color = 'blue', label = 'cluster2')\n",
        "plt.scatter(cluster_3_points[:, 2], cluster_3_points[:, 3], color = 'green', label = 'cluster3')\n",
        "plt.scatter(cluster_4_points[:, 2], cluster_4_points[:, 3], color = 'yellow', label = 'cluster4')\n",
        "plt.legend()\n",
        "plt.show()"
      ],
      "metadata": {
        "colab": {
          "base_uri": "https://localhost:8080/",
          "height": 265
        },
        "id": "7IrPS7rZVi-J",
        "outputId": "3ab88bf9-dff5-4db8-a5af-a603a88027db"
      },
      "execution_count": null,
      "outputs": [
        {
          "output_type": "display_data",
          "data": {
            "text/plain": [
              "<Figure size 432x288 with 1 Axes>"
            ],
            "image/png": "[encoded data removed]"
          },
          "metadata": {
            "needs_background": "light"
          }
        }
      ]
    },
    {
      "cell_type": "code",
      "source": [],
      "metadata": {
        "id": "-lWZ-ZwAVjAD"
      },
      "execution_count": null,
      "outputs": []
    },
    {
      "cell_type": "markdown",
      "source": [
        "### Vector Quantization using GMM"
      ],
      "metadata": {
        "id": "AzTAGe52fxiX"
      }
    },
    {
      "cell_type": "code",
      "source": [],
      "metadata": {
        "id": "xELRaQKNVjCv"
      },
      "execution_count": null,
      "outputs": []
    },
    {
      "cell_type": "code",
      "source": [],
      "metadata": {
        "id": "tUtiuqyPVjEc"
      },
      "execution_count": null,
      "outputs": []
    },
    {
      "cell_type": "code",
      "source": [],
      "metadata": {
        "id": "oEuUwMWeVjGx"
      },
      "execution_count": null,
      "outputs": []
    },
    {
      "cell_type": "code",
      "source": [],
      "metadata": {
        "id": "b1XlxSVlVjIz"
      },
      "execution_count": null,
      "outputs": []
    },
    {
      "cell_type": "code",
      "source": [],
      "metadata": {
        "id": "6AEs2-mlVjNq"
      },
      "execution_count": null,
      "outputs": []
    },
    {
      "cell_type": "code",
      "source": [],
      "metadata": {
        "id": "6NlIqX1bVjPC"
      },
      "execution_count": null,
      "outputs": []
    },
    {
      "cell_type": "code",
      "source": [],
      "metadata": {
        "id": "K5TJpKErVjQR"
      },
      "execution_count": null,
      "outputs": []
    },
    {
      "cell_type": "code",
      "source": [],
      "metadata": {
        "id": "WX4-STIzVjTk"
      },
      "execution_count": null,
      "outputs": []
    },
    {
      "cell_type": "code",
      "source": [],
      "metadata": {
        "id": "cHLlDeerVjVs"
      },
      "execution_count": null,
      "outputs": []
    },
    {
      "cell_type": "code",
      "source": [],
      "metadata": {
        "id": "0HsOVHNNVjen"
      },
      "execution_count": null,
      "outputs": []
    }
  ]
}